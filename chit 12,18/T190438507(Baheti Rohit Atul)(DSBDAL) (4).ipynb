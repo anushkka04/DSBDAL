{
 "cells": [
  {
   "cell_type": "markdown",
   "id": "6b96e1f9",
   "metadata": {},
   "source": [
    "## Importing the libraries "
   ]
  },
  {
   "cell_type": "code",
   "execution_count": 1,
   "id": "6da68546",
   "metadata": {},
   "outputs": [],
   "source": [
    "from requests import get\n",
    "from bs4 import BeautifulSoup"
   ]
  },
  {
   "cell_type": "code",
   "execution_count": 2,
   "id": "bb2efe05",
   "metadata": {},
   "outputs": [
    {
     "data": {
      "text/plain": [
       "'https://www.flipkart.com/search?q=tv%20&otracker=search&otracker1=search&marketplace=FLIPKART&as-show=on&as=off'"
      ]
     },
     "execution_count": 2,
     "metadata": {},
     "output_type": "execute_result"
    }
   ],
   "source": [
    "url='https://www.flipkart.com/search?q=tv%20&otracker=search&otracker1=search&marketplace=FLIPKART&as-show=on&as=off'\n",
    "url"
   ]
  },
  {
   "cell_type": "markdown",
   "id": "df90db73",
   "metadata": {},
   "source": [
    "## Accessing the website using get method"
   ]
  },
  {
   "cell_type": "code",
   "execution_count": 3,
   "id": "4db56420",
   "metadata": {},
   "outputs": [
    {
     "data": {
      "text/plain": [
       "<Response [200]>"
      ]
     },
     "execution_count": 3,
     "metadata": {},
     "output_type": "execute_result"
    }
   ],
   "source": [
    "response=get(url)\n",
    "response"
   ]
  },
  {
   "cell_type": "code",
   "execution_count": 4,
   "id": "bdce4127",
   "metadata": {},
   "outputs": [],
   "source": [
    "soup=BeautifulSoup(response.text,'lxml')"
   ]
  },
  {
   "cell_type": "code",
   "execution_count": 5,
   "id": "684aa17a",
   "metadata": {},
   "outputs": [
    {
     "data": {
      "text/plain": [
       "24"
      ]
     },
     "execution_count": 5,
     "metadata": {},
     "output_type": "execute_result"
    }
   ],
   "source": [
    "master_container=soup.find_all('div',{'class':'_2kHMtA'})\n",
    "len(master_container)"
   ]
  },
  {
   "cell_type": "code",
   "execution_count": 6,
   "id": "fca0d63e",
   "metadata": {},
   "outputs": [],
   "source": [
    "name=[]\n",
    "ratings=[]\n",
    "price=[]\n"
   ]
  },
  {
   "cell_type": "code",
   "execution_count": 7,
   "id": "c58ddfa5",
   "metadata": {},
   "outputs": [],
   "source": [
    "for i in range(len(master_container)):\n",
    "    name.append(master_container[i].find('div',{'class':'_4rR01T'}).text)\n",
    "    try:\n",
    "        ratings.append(master_container[i].find('div',{'class':'_3LWZlK'}).text)\n",
    "    except:\n",
    "        ratings.append(None)\n",
    "    price.append(master_container[i].find('div',{'class':'_30jeq3 _1_WHN1'}).text)"
   ]
  },
  {
   "cell_type": "code",
   "execution_count": 8,
   "id": "6f89ae69",
   "metadata": {},
   "outputs": [],
   "source": [
    "import pandas as pd"
   ]
  },
  {
   "cell_type": "code",
   "execution_count": 9,
   "id": "7406fc4f",
   "metadata": {},
   "outputs": [
    {
     "data": {
      "text/html": [
       "<div>\n",
       "<style scoped>\n",
       "    .dataframe tbody tr th:only-of-type {\n",
       "        vertical-align: middle;\n",
       "    }\n",
       "\n",
       "    .dataframe tbody tr th {\n",
       "        vertical-align: top;\n",
       "    }\n",
       "\n",
       "    .dataframe thead th {\n",
       "        text-align: right;\n",
       "    }\n",
       "</style>\n",
       "<table border=\"1\" class=\"dataframe\">\n",
       "  <thead>\n",
       "    <tr style=\"text-align: right;\">\n",
       "      <th></th>\n",
       "      <th>Name</th>\n",
       "      <th>Ratings</th>\n",
       "      <th>Price</th>\n",
       "    </tr>\n",
       "  </thead>\n",
       "  <tbody>\n",
       "    <tr>\n",
       "      <th>0</th>\n",
       "      <td>Gangnam Street 108 cm (43 inch) Full HD LED Sm...</td>\n",
       "      <td>4.6</td>\n",
       "      <td>₹12,999</td>\n",
       "    </tr>\n",
       "    <tr>\n",
       "      <th>1</th>\n",
       "      <td>BeethoSOL 80 cm (32 inch) HD Ready LED TV</td>\n",
       "      <td>4.1</td>\n",
       "      <td>₹6,949</td>\n",
       "    </tr>\n",
       "    <tr>\n",
       "      <th>2</th>\n",
       "      <td>Mi 5A 80 cm (32 inch) HD Ready LED Smart Andro...</td>\n",
       "      <td>4.4</td>\n",
       "      <td>₹12,999</td>\n",
       "    </tr>\n",
       "    <tr>\n",
       "      <th>3</th>\n",
       "      <td>realme 80 cm (32 inch) HD Ready LED Smart Andr...</td>\n",
       "      <td>4.3</td>\n",
       "      <td>₹11,999</td>\n",
       "    </tr>\n",
       "    <tr>\n",
       "      <th>4</th>\n",
       "      <td>Infinix Y1 80 cm (32 inch) HD Ready LED Smart ...</td>\n",
       "      <td>4.2</td>\n",
       "      <td>₹8,499</td>\n",
       "    </tr>\n",
       "    <tr>\n",
       "      <th>5</th>\n",
       "      <td>LG 80 cm (32 inch) HD Ready LED Smart WebOS TV</td>\n",
       "      <td>4.4</td>\n",
       "      <td>₹13,999</td>\n",
       "    </tr>\n",
       "    <tr>\n",
       "      <th>6</th>\n",
       "      <td>OnePlus Y1S 80 cm (32 inch) HD Ready LED Smart...</td>\n",
       "      <td>4.3</td>\n",
       "      <td>₹13,999</td>\n",
       "    </tr>\n",
       "    <tr>\n",
       "      <th>7</th>\n",
       "      <td>Dyanora 60 cm (24 inch) HD Ready LED Smart And...</td>\n",
       "      <td>4.1</td>\n",
       "      <td>₹6,599</td>\n",
       "    </tr>\n",
       "    <tr>\n",
       "      <th>8</th>\n",
       "      <td>Thomson Alpha 80 cm (32 inch) HD Ready LED Sma...</td>\n",
       "      <td>4.4</td>\n",
       "      <td>₹8,499</td>\n",
       "    </tr>\n",
       "    <tr>\n",
       "      <th>9</th>\n",
       "      <td>acer I Series 80 cm (32 inch) HD Ready LED Sma...</td>\n",
       "      <td>4.4</td>\n",
       "      <td>₹11,999</td>\n",
       "    </tr>\n",
       "    <tr>\n",
       "      <th>10</th>\n",
       "      <td>BeethoSOL 60 cm (24 inch) HD Ready LED TV</td>\n",
       "      <td>4.1</td>\n",
       "      <td>₹5,449</td>\n",
       "    </tr>\n",
       "    <tr>\n",
       "      <th>11</th>\n",
       "      <td>Dyanora Sigma 80 cm (32 inch) HD Ready LED Sma...</td>\n",
       "      <td>4.1</td>\n",
       "      <td>₹7,999</td>\n",
       "    </tr>\n",
       "    <tr>\n",
       "      <th>12</th>\n",
       "      <td>SAMSUNG 80 cm (32 Inch) HD Ready LED Smart Tiz...</td>\n",
       "      <td>4.4</td>\n",
       "      <td>₹13,990</td>\n",
       "    </tr>\n",
       "    <tr>\n",
       "      <th>13</th>\n",
       "      <td>TCL 80.04 cm (32 inch) HD Ready LED Smart Andr...</td>\n",
       "      <td>4.1</td>\n",
       "      <td>₹11,990</td>\n",
       "    </tr>\n",
       "    <tr>\n",
       "      <th>14</th>\n",
       "      <td>iFFALCON by TCL 80.04 cm (32 inch) HD Ready LE...</td>\n",
       "      <td>4.2</td>\n",
       "      <td>₹10,999</td>\n",
       "    </tr>\n",
       "    <tr>\n",
       "      <th>15</th>\n",
       "      <td>Coocaa 80 cm (32 inch) HD Ready LED Smart Cool...</td>\n",
       "      <td>4.3</td>\n",
       "      <td>₹8,499</td>\n",
       "    </tr>\n",
       "    <tr>\n",
       "      <th>16</th>\n",
       "      <td>BeethoSOL 80 cm (32 inch) HD Ready LED Smart A...</td>\n",
       "      <td>4.1</td>\n",
       "      <td>₹8,049</td>\n",
       "    </tr>\n",
       "    <tr>\n",
       "      <th>17</th>\n",
       "      <td>Adsun Smart Series 60 cm (24 inch) HD Ready LE...</td>\n",
       "      <td>3.9</td>\n",
       "      <td>₹6,799</td>\n",
       "    </tr>\n",
       "    <tr>\n",
       "      <th>18</th>\n",
       "      <td>Mi X Series 108 cm (43 inch) Ultra HD (4K) LED...</td>\n",
       "      <td>4.3</td>\n",
       "      <td>₹26,999</td>\n",
       "    </tr>\n",
       "    <tr>\n",
       "      <th>19</th>\n",
       "      <td>Mi 5A 100 cm (40 inch) Full HD LED Smart Andro...</td>\n",
       "      <td>4.4</td>\n",
       "      <td>₹20,999</td>\n",
       "    </tr>\n",
       "    <tr>\n",
       "      <th>20</th>\n",
       "      <td>Dyanora 60 cm (24 inch) HD Ready LED Smart And...</td>\n",
       "      <td>4.1</td>\n",
       "      <td>₹6,999</td>\n",
       "    </tr>\n",
       "    <tr>\n",
       "      <th>21</th>\n",
       "      <td>Dyanora 80 cm (32 inch) HD Ready LED Smart And...</td>\n",
       "      <td>4.1</td>\n",
       "      <td>₹8,299</td>\n",
       "    </tr>\n",
       "    <tr>\n",
       "      <th>22</th>\n",
       "      <td>LG UQ7500 108 cm (43 inch) Ultra HD (4K) LED S...</td>\n",
       "      <td>4.4</td>\n",
       "      <td>₹30,499</td>\n",
       "    </tr>\n",
       "    <tr>\n",
       "      <th>23</th>\n",
       "      <td>OnePlus Y1S Pro 138 cm (55 inch) Ultra HD (4K)...</td>\n",
       "      <td>4.4</td>\n",
       "      <td>₹37,999</td>\n",
       "    </tr>\n",
       "  </tbody>\n",
       "</table>\n",
       "</div>"
      ],
      "text/plain": [
       "                                                 Name Ratings    Price\n",
       "0   Gangnam Street 108 cm (43 inch) Full HD LED Sm...     4.6  ₹12,999\n",
       "1           BeethoSOL 80 cm (32 inch) HD Ready LED TV     4.1   ₹6,949\n",
       "2   Mi 5A 80 cm (32 inch) HD Ready LED Smart Andro...     4.4  ₹12,999\n",
       "3   realme 80 cm (32 inch) HD Ready LED Smart Andr...     4.3  ₹11,999\n",
       "4   Infinix Y1 80 cm (32 inch) HD Ready LED Smart ...     4.2   ₹8,499\n",
       "5      LG 80 cm (32 inch) HD Ready LED Smart WebOS TV     4.4  ₹13,999\n",
       "6   OnePlus Y1S 80 cm (32 inch) HD Ready LED Smart...     4.3  ₹13,999\n",
       "7   Dyanora 60 cm (24 inch) HD Ready LED Smart And...     4.1   ₹6,599\n",
       "8   Thomson Alpha 80 cm (32 inch) HD Ready LED Sma...     4.4   ₹8,499\n",
       "9   acer I Series 80 cm (32 inch) HD Ready LED Sma...     4.4  ₹11,999\n",
       "10          BeethoSOL 60 cm (24 inch) HD Ready LED TV     4.1   ₹5,449\n",
       "11  Dyanora Sigma 80 cm (32 inch) HD Ready LED Sma...     4.1   ₹7,999\n",
       "12  SAMSUNG 80 cm (32 Inch) HD Ready LED Smart Tiz...     4.4  ₹13,990\n",
       "13  TCL 80.04 cm (32 inch) HD Ready LED Smart Andr...     4.1  ₹11,990\n",
       "14  iFFALCON by TCL 80.04 cm (32 inch) HD Ready LE...     4.2  ₹10,999\n",
       "15  Coocaa 80 cm (32 inch) HD Ready LED Smart Cool...     4.3   ₹8,499\n",
       "16  BeethoSOL 80 cm (32 inch) HD Ready LED Smart A...     4.1   ₹8,049\n",
       "17  Adsun Smart Series 60 cm (24 inch) HD Ready LE...     3.9   ₹6,799\n",
       "18  Mi X Series 108 cm (43 inch) Ultra HD (4K) LED...     4.3  ₹26,999\n",
       "19  Mi 5A 100 cm (40 inch) Full HD LED Smart Andro...     4.4  ₹20,999\n",
       "20  Dyanora 60 cm (24 inch) HD Ready LED Smart And...     4.1   ₹6,999\n",
       "21  Dyanora 80 cm (32 inch) HD Ready LED Smart And...     4.1   ₹8,299\n",
       "22  LG UQ7500 108 cm (43 inch) Ultra HD (4K) LED S...     4.4  ₹30,499\n",
       "23  OnePlus Y1S Pro 138 cm (55 inch) Ultra HD (4K)...     4.4  ₹37,999"
      ]
     },
     "execution_count": 9,
     "metadata": {},
     "output_type": "execute_result"
    }
   ],
   "source": [
    "data={'Name':name,'Ratings':ratings,'Price':price}\n",
    "df=pd.DataFrame(data)\n",
    "df"
   ]
  },
  {
   "cell_type": "markdown",
   "id": "d129e00f",
   "metadata": {},
   "source": [
    "## Extracting Reviews, comments ,customer name"
   ]
  },
  {
   "cell_type": "code",
   "execution_count": 10,
   "id": "3431e592",
   "metadata": {},
   "outputs": [
    {
     "data": {
      "text/plain": [
       "<Response [200]>"
      ]
     },
     "execution_count": 10,
     "metadata": {},
     "output_type": "execute_result"
    }
   ],
   "source": [
    "url1='https://www.flipkart.com/beethosol-60-cm-24-inch-hd-ready-led-tv/p/itm90f7facf698f4?pid=TVSGG79MWCZAYABV&lid=LSTTVSGG79MWCZAYABVBIZVS1&marketplace=FLIPKART&q=tv+&store=ckf%2Fczl&srno=s_1_1&otracker=search&otracker1=search&fm=organic&iid=en_z26IeX4rC70TFqLTRiLbUpgZmI9lP9sBfNhHwyF8xU9x%2F1ZSn8mb4Wne4TN0mnX38SO%2BoaqCp2o0%2FXmmYb2YOQ%3D%3D&ppt=hp&ppn=homepage&ssid=625fbztyts0000001684770257059&qH=ebb7f8e6076c3747'\n",
    "response=get(url1)\n",
    "response"
   ]
  },
  {
   "cell_type": "code",
   "execution_count": 11,
   "id": "ca401120",
   "metadata": {},
   "outputs": [],
   "source": [
    "soup1=BeautifulSoup(response.text,'lxml')"
   ]
  },
  {
   "cell_type": "code",
   "execution_count": 12,
   "id": "497a7196",
   "metadata": {},
   "outputs": [
    {
     "data": {
      "text/plain": [
       "10"
      ]
     },
     "execution_count": 12,
     "metadata": {},
     "output_type": "execute_result"
    }
   ],
   "source": [
    "master_container1=soup1.find_all('div',{'class':'col _2wzgFH'})\n",
    "len(master_container1)"
   ]
  },
  {
   "cell_type": "code",
   "execution_count": 13,
   "id": "8c26382c",
   "metadata": {},
   "outputs": [],
   "source": [
    "reviews=[]\n",
    "comments=[]\n",
    "cust_name=[]\n",
    "cust_ratings=[]"
   ]
  },
  {
   "cell_type": "code",
   "execution_count": 14,
   "id": "188c6c72",
   "metadata": {},
   "outputs": [],
   "source": [
    "for i in range(len(master_container1)):\n",
    "    try:\n",
    "        reviews.append(master_container1[i].find('div',{'class':'t-ZTKy'}).text)\n",
    "    except:\n",
    "        reviews.append(None)\n",
    "    try:\n",
    "        comments.append(master_container1[i].find('p',{'class':'_2-N8zT'}).text)\n",
    "    except:\n",
    "        comments.append(None)\n",
    "    try:\n",
    "        cust_name.append(master_container1[i].find('p',{'class':'_2sc7ZR _2V5EHH'}).text)\n",
    "    except:\n",
    "        cust_name.append(None)\n",
    "    try:\n",
    "        cust_ratings.append(master_container1[i].find('div',{'class':'_3LWZlK _1BLPMq'}).text)\n",
    "    except:\n",
    "        cust_ratings.append(None)"
   ]
  },
  {
   "cell_type": "code",
   "execution_count": 15,
   "id": "9248ce18",
   "metadata": {},
   "outputs": [],
   "source": [
    "data=pd.DataFrame({'Customer Name':cust_name,'Review':reviews,'Comment':comments,'Rating':cust_ratings})"
   ]
  },
  {
   "cell_type": "code",
   "execution_count": 16,
   "id": "b4d79a68",
   "metadata": {},
   "outputs": [
    {
     "data": {
      "text/html": [
       "<div>\n",
       "<style scoped>\n",
       "    .dataframe tbody tr th:only-of-type {\n",
       "        vertical-align: middle;\n",
       "    }\n",
       "\n",
       "    .dataframe tbody tr th {\n",
       "        vertical-align: top;\n",
       "    }\n",
       "\n",
       "    .dataframe thead th {\n",
       "        text-align: right;\n",
       "    }\n",
       "</style>\n",
       "<table border=\"1\" class=\"dataframe\">\n",
       "  <thead>\n",
       "    <tr style=\"text-align: right;\">\n",
       "      <th></th>\n",
       "      <th>Customer Name</th>\n",
       "      <th>Review</th>\n",
       "      <th>Comment</th>\n",
       "      <th>Rating</th>\n",
       "    </tr>\n",
       "  </thead>\n",
       "  <tbody>\n",
       "    <tr>\n",
       "      <th>0</th>\n",
       "      <td>Arun Gujjar</td>\n",
       "      <td>its a smart tv (not Android )it have already i...</td>\n",
       "      <td>Really Nice</td>\n",
       "      <td>4</td>\n",
       "    </tr>\n",
       "    <tr>\n",
       "      <th>1</th>\n",
       "      <td>Madhava Raghavendra Raghavendra</td>\n",
       "      <td>product  quality ok I am happyREAD MORE</td>\n",
       "      <td>Just wow!</td>\n",
       "      <td>5</td>\n",
       "    </tr>\n",
       "    <tr>\n",
       "      <th>2</th>\n",
       "      <td>Raja sekhar</td>\n",
       "      <td>I was dare this to buy, but finally it was rea...</td>\n",
       "      <td>Wonderful</td>\n",
       "      <td>4</td>\n",
       "    </tr>\n",
       "    <tr>\n",
       "      <th>3</th>\n",
       "      <td>Manoj Kumar</td>\n",
       "      <td>Good...READ MORE</td>\n",
       "      <td>Pretty good</td>\n",
       "      <td>4</td>\n",
       "    </tr>\n",
       "    <tr>\n",
       "      <th>4</th>\n",
       "      <td>Flipkart Customer</td>\n",
       "      <td>value for money👍👍👍👍👍👍READ MORE</td>\n",
       "      <td>Terrific</td>\n",
       "      <td>5</td>\n",
       "    </tr>\n",
       "    <tr>\n",
       "      <th>5</th>\n",
       "      <td>Flipkart Customer</td>\n",
       "      <td>Good productREAD MORE</td>\n",
       "      <td>Simply awesome</td>\n",
       "      <td>5</td>\n",
       "    </tr>\n",
       "    <tr>\n",
       "      <th>6</th>\n",
       "      <td>Abhiranjan  Kumar</td>\n",
       "      <td>Very nice product 👍😊 I am very happyREAD MORE</td>\n",
       "      <td>Perfect product!</td>\n",
       "      <td>5</td>\n",
       "    </tr>\n",
       "    <tr>\n",
       "      <th>7</th>\n",
       "      <td>C. Lalduhtluanga (tluanga)</td>\n",
       "      <td>Very goodREAD MORE</td>\n",
       "      <td>Worth the money</td>\n",
       "      <td>4</td>\n",
       "    </tr>\n",
       "    <tr>\n",
       "      <th>8</th>\n",
       "      <td>Satyam Thakur</td>\n",
       "      <td>Vary good 👍👍👍READ MORE</td>\n",
       "      <td>Wonderful</td>\n",
       "      <td>5</td>\n",
       "    </tr>\n",
       "    <tr>\n",
       "      <th>9</th>\n",
       "      <td>Neeraj Sahu</td>\n",
       "      <td>It's niceREAD MORE</td>\n",
       "      <td>Classy product</td>\n",
       "      <td>5</td>\n",
       "    </tr>\n",
       "  </tbody>\n",
       "</table>\n",
       "</div>"
      ],
      "text/plain": [
       "                      Customer Name  \\\n",
       "0                       Arun Gujjar   \n",
       "1   Madhava Raghavendra Raghavendra   \n",
       "2                       Raja sekhar   \n",
       "3                       Manoj Kumar   \n",
       "4                 Flipkart Customer   \n",
       "5                 Flipkart Customer   \n",
       "6                 Abhiranjan  Kumar   \n",
       "7       C. Lalduhtluanga (tluanga)    \n",
       "8                     Satyam Thakur   \n",
       "9                       Neeraj Sahu   \n",
       "\n",
       "                                              Review           Comment Rating  \n",
       "0  its a smart tv (not Android )it have already i...       Really Nice      4  \n",
       "1            product  quality ok I am happyREAD MORE         Just wow!      5  \n",
       "2  I was dare this to buy, but finally it was rea...         Wonderful      4  \n",
       "3                                   Good...READ MORE       Pretty good      4  \n",
       "4                     value for money👍👍👍👍👍👍READ MORE          Terrific      5  \n",
       "5                              Good productREAD MORE    Simply awesome      5  \n",
       "6      Very nice product 👍😊 I am very happyREAD MORE  Perfect product!      5  \n",
       "7                                 Very goodREAD MORE   Worth the money      4  \n",
       "8                             Vary good 👍👍👍READ MORE         Wonderful      5  \n",
       "9                                 It's niceREAD MORE    Classy product      5  "
      ]
     },
     "execution_count": 16,
     "metadata": {},
     "output_type": "execute_result"
    }
   ],
   "source": [
    "data"
   ]
  },
  {
   "cell_type": "code",
   "execution_count": null,
   "id": "45cd18e7",
   "metadata": {},
   "outputs": [],
   "source": []
  }
 ],
 "metadata": {
  "kernelspec": {
   "display_name": "Python 3 (ipykernel)",
   "language": "python",
   "name": "python3"
  },
  "language_info": {
   "codemirror_mode": {
    "name": "ipython",
    "version": 3
   },
   "file_extension": ".py",
   "mimetype": "text/x-python",
   "name": "python",
   "nbconvert_exporter": "python",
   "pygments_lexer": "ipython3",
   "version": "3.9.13"
  }
 },
 "nbformat": 4,
 "nbformat_minor": 5
}
